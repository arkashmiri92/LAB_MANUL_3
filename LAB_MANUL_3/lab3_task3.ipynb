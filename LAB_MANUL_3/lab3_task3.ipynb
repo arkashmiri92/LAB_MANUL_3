{
 "cells": [
  {
   "cell_type": "code",
   "execution_count": 3,
   "id": "b7dba0df",
   "metadata": {},
   "outputs": [
    {
     "name": "stdout",
     "output_type": "stream",
     "text": [
      "Enter string: hello. im joe. what is your name?\n",
      "Hello . Im joe . What is your name? . "
     ]
    }
   ],
   "source": [
    "string=input(\"Enter string: \")\n",
    "def changeCase(string):\n",
    "    case=string.split(\".\")\n",
    "    for i in case:\n",
    "        print(i.strip().capitalize(),\".\",end=\" \")\n",
    "changeCase(string)"
   ]
  },
  {
   "cell_type": "code",
   "execution_count": null,
   "id": "6a12d683",
   "metadata": {},
   "outputs": [],
   "source": []
  }
 ],
 "metadata": {
  "kernelspec": {
   "display_name": "Python 3",
   "language": "python",
   "name": "python3"
  },
  "language_info": {
   "codemirror_mode": {
    "name": "ipython",
    "version": 3
   },
   "file_extension": ".py",
   "mimetype": "text/x-python",
   "name": "python",
   "nbconvert_exporter": "python",
   "pygments_lexer": "ipython3",
   "version": "3.8.8"
  }
 },
 "nbformat": 4,
 "nbformat_minor": 5
}
