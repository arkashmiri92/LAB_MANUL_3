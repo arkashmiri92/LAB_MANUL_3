{
 "cells": [
  {
   "cell_type": "code",
   "execution_count": 5,
   "id": "5473f001",
   "metadata": {},
   "outputs": [
    {
     "name": "stdout",
     "output_type": "stream",
     "text": [
      "Enter a passowrd: Hello123\n",
      "Your password is valid\n"
     ]
    }
   ],
   "source": [
    "string=input(\"Enter a passowrd: \")\n",
    "lowercase,uppercase,digit=0,0,0\n",
    "for i in string:\n",
    "    if(i.islower()):\n",
    "        lowercase+=1\n",
    "    elif(i.isupper()):\n",
    "        uppercase+=1\n",
    "    elif(i.isdigit()):\n",
    "        digit+=1\n",
    "if(lowercase>=1 and uppercase>=1 and digit>=1):\n",
    "    print(\"Your password is valid\")\n",
    "else:\n",
    "    print(\"Your password is in valid\")"
   ]
  },
  {
   "cell_type": "markdown",
   "id": "d96430af",
   "metadata": {},
   "source": []
  }
 ],
 "metadata": {
  "kernelspec": {
   "display_name": "Python 3",
   "language": "python",
   "name": "python3"
  },
  "language_info": {
   "codemirror_mode": {
    "name": "ipython",
    "version": 3
   },
   "file_extension": ".py",
   "mimetype": "text/x-python",
   "name": "python",
   "nbconvert_exporter": "python",
   "pygments_lexer": "ipython3",
   "version": "3.8.8"
  }
 },
 "nbformat": 4,
 "nbformat_minor": 5
}
